{
 "cells": [
  {
   "cell_type": "code",
   "execution_count": 2,
   "metadata": {},
   "outputs": [
    {
     "name": "stdout",
     "output_type": "stream",
     "text": [
      " Stress is iets wat we allemaal wel eens ervaren, maar het is belangrijk om te weten hoe je ermee om kunt gaan. Een van de eerste stappen is het herkennen van de signalen van stress in je lichaam, zoals verhoogde hartslag of gespannen spieren. Zodra je merkt dat je gestrest bent, kun je ademhalingsoefeningen doen. Het rustig in- en uitademen helpt je om je zenuwstelsel te kalmeren. Daarnaast is het belangrijk om tijd voor jezelf te nemen. Probeer even te ontspannen door een wandeling te maken of iets te doen waar je van geniet. Regelmatig bewegen en een gezond dieet kunnen ook bijdragen aan het verminderen van stress. Ten slotte is het goed om te praten over wat je voelt. Praten met een vriend, familielid of professional kan helpen om stress beter te begrijpen en ermee om te gaan. Het belangrijkste is dat je niet te streng voor jezelf bent en leert dat het oké is om af en toe hulp nodig te hebben. De dingen tied de dag is 남- en toe.?\n"
     ]
    }
   ],
   "source": [
    "import whisper\n",
    "\n",
    "model = whisper.load_model(\"turbo\")\n",
    "result = model.transcribe(\"../assets/audio.mp3\")\n",
    "print(result[\"text\"])"
   ]
  }
 ],
 "metadata": {
  "kernelspec": {
   "display_name": "env",
   "language": "python",
   "name": "python3"
  },
  "language_info": {
   "codemirror_mode": {
    "name": "ipython",
    "version": 3
   },
   "file_extension": ".py",
   "mimetype": "text/x-python",
   "name": "python",
   "nbconvert_exporter": "python",
   "pygments_lexer": "ipython3",
   "version": "3.12.9"
  }
 },
 "nbformat": 4,
 "nbformat_minor": 2
}
